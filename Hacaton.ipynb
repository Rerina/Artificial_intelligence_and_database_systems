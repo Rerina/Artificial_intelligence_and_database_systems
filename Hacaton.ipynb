{
  "nbformat": 4,
  "nbformat_minor": 0,
  "metadata": {
    "colab": {
      "provenance": [],
      "include_colab_link": true
    },
    "kernelspec": {
      "name": "python3",
      "display_name": "Python 3"
    },
    "language_info": {
      "name": "python"
    }
  },
  "cells": [
    {
      "cell_type": "markdown",
      "metadata": {
        "id": "view-in-github",
        "colab_type": "text"
      },
      "source": [
        "<a href=\"https://colab.research.google.com/github/Rerina/Artificial_intelligence_and_database_systems/blob/main/Hacaton.ipynb\" target=\"_parent\"><img src=\"https://colab.research.google.com/assets/colab-badge.svg\" alt=\"Open In Colab\"/></a>"
      ]
    },
    {
      "cell_type": "code",
      "source": [
        "import matplotlib.pyplot as plt\n",
        "import numpy as np\n",
        "import pandas as pd\n",
        "import seaborn as sns\n",
        "import ast\n",
        "\n",
        "from statsmodels.tsa.seasonal import STL\n",
        "from scipy.signal import find_peaks, argrelmax, argrelmin\n",
        "from scipy.spatial.distance import euclidean, correlation, cosine\n",
        "from scipy.fft import fft\n",
        "from scipy.stats import skew, kurtosis\n",
        "from sklearn.pipeline import Pipeline\n",
        "from sklearn.compose import ColumnTransformer\n",
        "from sklearn.preprocessing import StandardScaler, MinMaxScaler\n",
        "from sklearn.metrics import accuracy_score, make_scorer\n",
        "from sklearn.model_selection import train_test_split\n",
        "from IPython.display import display"
      ],
      "metadata": {
        "id": "Wn2xNEE0KJ01"
      },
      "execution_count": 60,
      "outputs": []
    },
    {
      "cell_type": "code",
      "execution_count": 61,
      "metadata": {
        "colab": {
          "base_uri": "https://localhost:8080/"
        },
        "id": "RVlUtWnXasWl",
        "outputId": "afc717dc-6f85-40d4-cec1-872d903d7bfa"
      },
      "outputs": [
        {
          "output_type": "stream",
          "name": "stdout",
          "text": [
            "Drive already mounted at /content/hack; to attempt to forcibly remount, call drive.mount(\"/content/hack\", force_remount=True).\n"
          ]
        }
      ],
      "source": [
        "from google.colab import drive\n",
        "drive.mount('/content/hack')"
      ]
    },
    {
      "cell_type": "code",
      "source": [
        "%cd /content/hack/MyDrive/"
      ],
      "metadata": {
        "colab": {
          "base_uri": "https://localhost:8080/"
        },
        "id": "ARwok9FLbIBm",
        "outputId": "c503fd1e-12d7-41c9-83e3-3e0978410718"
      },
      "execution_count": 62,
      "outputs": [
        {
          "output_type": "stream",
          "name": "stdout",
          "text": [
            "/content/hack/MyDrive\n"
          ]
        }
      ]
    },
    {
      "cell_type": "code",
      "source": [
        "import pandas as pd"
      ],
      "metadata": {
        "id": "WaZ1zwoNb0QA"
      },
      "execution_count": 63,
      "outputs": []
    },
    {
      "cell_type": "code",
      "source": [
        "df = pd.read_excel(\"/content/hack/MyDrive/Markers.xlsx\")\n",
        "df"
      ],
      "metadata": {
        "colab": {
          "base_uri": "https://localhost:8080/",
          "height": 424
        },
        "id": "bjPOw9j-cC0C",
        "outputId": "9c8817c9-a51e-4b89-c9ba-9337374e3083"
      },
      "execution_count": 64,
      "outputs": [
        {
          "output_type": "execute_result",
          "data": {
            "text/plain": [
              "      NN            время маркер\n",
              "0      1  00:02:58.075000    ds1\n",
              "1      2  00:04:21.750000    ds2\n",
              "2      3  00:05:42.700000    ds1\n",
              "3      4  00:08:15.525000    ds2\n",
              "4      5  00:24:34.675000    ds1\n",
              "..   ...              ...    ...\n",
              "133  134  05:11:38.200000    is2\n",
              "134  135  05:15:12.950000    ds1\n",
              "135  136  05:21:56.650000    ds2\n",
              "136  137  05:25:08.750000    ds1\n",
              "137  138  05:33:59.500000    ds2\n",
              "\n",
              "[138 rows x 3 columns]"
            ],
            "text/html": [
              "\n",
              "  <div id=\"df-594c0b31-8a5c-42ee-8d57-66f3243aac12\" class=\"colab-df-container\">\n",
              "    <div>\n",
              "<style scoped>\n",
              "    .dataframe tbody tr th:only-of-type {\n",
              "        vertical-align: middle;\n",
              "    }\n",
              "\n",
              "    .dataframe tbody tr th {\n",
              "        vertical-align: top;\n",
              "    }\n",
              "\n",
              "    .dataframe thead th {\n",
              "        text-align: right;\n",
              "    }\n",
              "</style>\n",
              "<table border=\"1\" class=\"dataframe\">\n",
              "  <thead>\n",
              "    <tr style=\"text-align: right;\">\n",
              "      <th></th>\n",
              "      <th>NN</th>\n",
              "      <th>время</th>\n",
              "      <th>маркер</th>\n",
              "    </tr>\n",
              "  </thead>\n",
              "  <tbody>\n",
              "    <tr>\n",
              "      <th>0</th>\n",
              "      <td>1</td>\n",
              "      <td>00:02:58.075000</td>\n",
              "      <td>ds1</td>\n",
              "    </tr>\n",
              "    <tr>\n",
              "      <th>1</th>\n",
              "      <td>2</td>\n",
              "      <td>00:04:21.750000</td>\n",
              "      <td>ds2</td>\n",
              "    </tr>\n",
              "    <tr>\n",
              "      <th>2</th>\n",
              "      <td>3</td>\n",
              "      <td>00:05:42.700000</td>\n",
              "      <td>ds1</td>\n",
              "    </tr>\n",
              "    <tr>\n",
              "      <th>3</th>\n",
              "      <td>4</td>\n",
              "      <td>00:08:15.525000</td>\n",
              "      <td>ds2</td>\n",
              "    </tr>\n",
              "    <tr>\n",
              "      <th>4</th>\n",
              "      <td>5</td>\n",
              "      <td>00:24:34.675000</td>\n",
              "      <td>ds1</td>\n",
              "    </tr>\n",
              "    <tr>\n",
              "      <th>...</th>\n",
              "      <td>...</td>\n",
              "      <td>...</td>\n",
              "      <td>...</td>\n",
              "    </tr>\n",
              "    <tr>\n",
              "      <th>133</th>\n",
              "      <td>134</td>\n",
              "      <td>05:11:38.200000</td>\n",
              "      <td>is2</td>\n",
              "    </tr>\n",
              "    <tr>\n",
              "      <th>134</th>\n",
              "      <td>135</td>\n",
              "      <td>05:15:12.950000</td>\n",
              "      <td>ds1</td>\n",
              "    </tr>\n",
              "    <tr>\n",
              "      <th>135</th>\n",
              "      <td>136</td>\n",
              "      <td>05:21:56.650000</td>\n",
              "      <td>ds2</td>\n",
              "    </tr>\n",
              "    <tr>\n",
              "      <th>136</th>\n",
              "      <td>137</td>\n",
              "      <td>05:25:08.750000</td>\n",
              "      <td>ds1</td>\n",
              "    </tr>\n",
              "    <tr>\n",
              "      <th>137</th>\n",
              "      <td>138</td>\n",
              "      <td>05:33:59.500000</td>\n",
              "      <td>ds2</td>\n",
              "    </tr>\n",
              "  </tbody>\n",
              "</table>\n",
              "<p>138 rows × 3 columns</p>\n",
              "</div>\n",
              "    <div class=\"colab-df-buttons\">\n",
              "\n",
              "  <div class=\"colab-df-container\">\n",
              "    <button class=\"colab-df-convert\" onclick=\"convertToInteractive('df-594c0b31-8a5c-42ee-8d57-66f3243aac12')\"\n",
              "            title=\"Convert this dataframe to an interactive table.\"\n",
              "            style=\"display:none;\">\n",
              "\n",
              "  <svg xmlns=\"http://www.w3.org/2000/svg\" height=\"24px\" viewBox=\"0 -960 960 960\">\n",
              "    <path d=\"M120-120v-720h720v720H120Zm60-500h600v-160H180v160Zm220 220h160v-160H400v160Zm0 220h160v-160H400v160ZM180-400h160v-160H180v160Zm440 0h160v-160H620v160ZM180-180h160v-160H180v160Zm440 0h160v-160H620v160Z\"/>\n",
              "  </svg>\n",
              "    </button>\n",
              "\n",
              "  <style>\n",
              "    .colab-df-container {\n",
              "      display:flex;\n",
              "      gap: 12px;\n",
              "    }\n",
              "\n",
              "    .colab-df-convert {\n",
              "      background-color: #E8F0FE;\n",
              "      border: none;\n",
              "      border-radius: 50%;\n",
              "      cursor: pointer;\n",
              "      display: none;\n",
              "      fill: #1967D2;\n",
              "      height: 32px;\n",
              "      padding: 0 0 0 0;\n",
              "      width: 32px;\n",
              "    }\n",
              "\n",
              "    .colab-df-convert:hover {\n",
              "      background-color: #E2EBFA;\n",
              "      box-shadow: 0px 1px 2px rgba(60, 64, 67, 0.3), 0px 1px 3px 1px rgba(60, 64, 67, 0.15);\n",
              "      fill: #174EA6;\n",
              "    }\n",
              "\n",
              "    .colab-df-buttons div {\n",
              "      margin-bottom: 4px;\n",
              "    }\n",
              "\n",
              "    [theme=dark] .colab-df-convert {\n",
              "      background-color: #3B4455;\n",
              "      fill: #D2E3FC;\n",
              "    }\n",
              "\n",
              "    [theme=dark] .colab-df-convert:hover {\n",
              "      background-color: #434B5C;\n",
              "      box-shadow: 0px 1px 3px 1px rgba(0, 0, 0, 0.15);\n",
              "      filter: drop-shadow(0px 1px 2px rgba(0, 0, 0, 0.3));\n",
              "      fill: #FFFFFF;\n",
              "    }\n",
              "  </style>\n",
              "\n",
              "    <script>\n",
              "      const buttonEl =\n",
              "        document.querySelector('#df-594c0b31-8a5c-42ee-8d57-66f3243aac12 button.colab-df-convert');\n",
              "      buttonEl.style.display =\n",
              "        google.colab.kernel.accessAllowed ? 'block' : 'none';\n",
              "\n",
              "      async function convertToInteractive(key) {\n",
              "        const element = document.querySelector('#df-594c0b31-8a5c-42ee-8d57-66f3243aac12');\n",
              "        const dataTable =\n",
              "          await google.colab.kernel.invokeFunction('convertToInteractive',\n",
              "                                                    [key], {});\n",
              "        if (!dataTable) return;\n",
              "\n",
              "        const docLinkHtml = 'Like what you see? Visit the ' +\n",
              "          '<a target=\"_blank\" href=https://colab.research.google.com/notebooks/data_table.ipynb>data table notebook</a>'\n",
              "          + ' to learn more about interactive tables.';\n",
              "        element.innerHTML = '';\n",
              "        dataTable['output_type'] = 'display_data';\n",
              "        await google.colab.output.renderOutput(dataTable, element);\n",
              "        const docLink = document.createElement('div');\n",
              "        docLink.innerHTML = docLinkHtml;\n",
              "        element.appendChild(docLink);\n",
              "      }\n",
              "    </script>\n",
              "  </div>\n",
              "\n",
              "\n",
              "<div id=\"df-9bf29c29-6839-4c0d-8670-a08942d146aa\">\n",
              "  <button class=\"colab-df-quickchart\" onclick=\"quickchart('df-9bf29c29-6839-4c0d-8670-a08942d146aa')\"\n",
              "            title=\"Suggest charts\"\n",
              "            style=\"display:none;\">\n",
              "\n",
              "<svg xmlns=\"http://www.w3.org/2000/svg\" height=\"24px\"viewBox=\"0 0 24 24\"\n",
              "     width=\"24px\">\n",
              "    <g>\n",
              "        <path d=\"M19 3H5c-1.1 0-2 .9-2 2v14c0 1.1.9 2 2 2h14c1.1 0 2-.9 2-2V5c0-1.1-.9-2-2-2zM9 17H7v-7h2v7zm4 0h-2V7h2v10zm4 0h-2v-4h2v4z\"/>\n",
              "    </g>\n",
              "</svg>\n",
              "  </button>\n",
              "\n",
              "<style>\n",
              "  .colab-df-quickchart {\n",
              "      --bg-color: #E8F0FE;\n",
              "      --fill-color: #1967D2;\n",
              "      --hover-bg-color: #E2EBFA;\n",
              "      --hover-fill-color: #174EA6;\n",
              "      --disabled-fill-color: #AAA;\n",
              "      --disabled-bg-color: #DDD;\n",
              "  }\n",
              "\n",
              "  [theme=dark] .colab-df-quickchart {\n",
              "      --bg-color: #3B4455;\n",
              "      --fill-color: #D2E3FC;\n",
              "      --hover-bg-color: #434B5C;\n",
              "      --hover-fill-color: #FFFFFF;\n",
              "      --disabled-bg-color: #3B4455;\n",
              "      --disabled-fill-color: #666;\n",
              "  }\n",
              "\n",
              "  .colab-df-quickchart {\n",
              "    background-color: var(--bg-color);\n",
              "    border: none;\n",
              "    border-radius: 50%;\n",
              "    cursor: pointer;\n",
              "    display: none;\n",
              "    fill: var(--fill-color);\n",
              "    height: 32px;\n",
              "    padding: 0;\n",
              "    width: 32px;\n",
              "  }\n",
              "\n",
              "  .colab-df-quickchart:hover {\n",
              "    background-color: var(--hover-bg-color);\n",
              "    box-shadow: 0 1px 2px rgba(60, 64, 67, 0.3), 0 1px 3px 1px rgba(60, 64, 67, 0.15);\n",
              "    fill: var(--button-hover-fill-color);\n",
              "  }\n",
              "\n",
              "  .colab-df-quickchart-complete:disabled,\n",
              "  .colab-df-quickchart-complete:disabled:hover {\n",
              "    background-color: var(--disabled-bg-color);\n",
              "    fill: var(--disabled-fill-color);\n",
              "    box-shadow: none;\n",
              "  }\n",
              "\n",
              "  .colab-df-spinner {\n",
              "    border: 2px solid var(--fill-color);\n",
              "    border-color: transparent;\n",
              "    border-bottom-color: var(--fill-color);\n",
              "    animation:\n",
              "      spin 1s steps(1) infinite;\n",
              "  }\n",
              "\n",
              "  @keyframes spin {\n",
              "    0% {\n",
              "      border-color: transparent;\n",
              "      border-bottom-color: var(--fill-color);\n",
              "      border-left-color: var(--fill-color);\n",
              "    }\n",
              "    20% {\n",
              "      border-color: transparent;\n",
              "      border-left-color: var(--fill-color);\n",
              "      border-top-color: var(--fill-color);\n",
              "    }\n",
              "    30% {\n",
              "      border-color: transparent;\n",
              "      border-left-color: var(--fill-color);\n",
              "      border-top-color: var(--fill-color);\n",
              "      border-right-color: var(--fill-color);\n",
              "    }\n",
              "    40% {\n",
              "      border-color: transparent;\n",
              "      border-right-color: var(--fill-color);\n",
              "      border-top-color: var(--fill-color);\n",
              "    }\n",
              "    60% {\n",
              "      border-color: transparent;\n",
              "      border-right-color: var(--fill-color);\n",
              "    }\n",
              "    80% {\n",
              "      border-color: transparent;\n",
              "      border-right-color: var(--fill-color);\n",
              "      border-bottom-color: var(--fill-color);\n",
              "    }\n",
              "    90% {\n",
              "      border-color: transparent;\n",
              "      border-bottom-color: var(--fill-color);\n",
              "    }\n",
              "  }\n",
              "</style>\n",
              "\n",
              "  <script>\n",
              "    async function quickchart(key) {\n",
              "      const quickchartButtonEl =\n",
              "        document.querySelector('#' + key + ' button');\n",
              "      quickchartButtonEl.disabled = true;  // To prevent multiple clicks.\n",
              "      quickchartButtonEl.classList.add('colab-df-spinner');\n",
              "      try {\n",
              "        const charts = await google.colab.kernel.invokeFunction(\n",
              "            'suggestCharts', [key], {});\n",
              "      } catch (error) {\n",
              "        console.error('Error during call to suggestCharts:', error);\n",
              "      }\n",
              "      quickchartButtonEl.classList.remove('colab-df-spinner');\n",
              "      quickchartButtonEl.classList.add('colab-df-quickchart-complete');\n",
              "    }\n",
              "    (() => {\n",
              "      let quickchartButtonEl =\n",
              "        document.querySelector('#df-9bf29c29-6839-4c0d-8670-a08942d146aa button');\n",
              "      quickchartButtonEl.style.display =\n",
              "        google.colab.kernel.accessAllowed ? 'block' : 'none';\n",
              "    })();\n",
              "  </script>\n",
              "</div>\n",
              "    </div>\n",
              "  </div>\n"
            ],
            "application/vnd.google.colaboratory.intrinsic+json": {
              "type": "dataframe",
              "variable_name": "df",
              "summary": "{\n  \"name\": \"df\",\n  \"rows\": 138,\n  \"fields\": [\n    {\n      \"column\": \"NN\",\n      \"properties\": {\n        \"dtype\": \"number\",\n        \"std\": 39,\n        \"min\": 1,\n        \"max\": 138,\n        \"num_unique_values\": 138,\n        \"samples\": [\n          90,\n          106,\n          13\n        ],\n        \"semantic_type\": \"\",\n        \"description\": \"\"\n      }\n    },\n    {\n      \"column\": \"\\u0432\\u0440\\u0435\\u043c\\u044f\",\n      \"properties\": {\n        \"dtype\": \"string\",\n        \"num_unique_values\": 138,\n        \"samples\": [\n          \"03:09:53.200000\",\n          \"03:49:19.600000\",\n          \"00:37:35.300000\"\n        ],\n        \"semantic_type\": \"\",\n        \"description\": \"\"\n      }\n    },\n    {\n      \"column\": \"\\u043c\\u0430\\u0440\\u043a\\u0435\\u0440\",\n      \"properties\": {\n        \"dtype\": \"category\",\n        \"num_unique_values\": 4,\n        \"samples\": [\n          \"ds2\",\n          \"is2\",\n          \"ds1\"\n        ],\n        \"semantic_type\": \"\",\n        \"description\": \"\"\n      }\n    }\n  ]\n}"
            }
          },
          "metadata": {},
          "execution_count": 64
        }
      ]
    },
    {
      "cell_type": "code",
      "source": [
        "import numpy as np\n",
        "!pip install pyEDFlib"
      ],
      "metadata": {
        "id": "REmPunzAMe77",
        "outputId": "0a7850d5-3d32-4525-c53a-680393b371fc",
        "colab": {
          "base_uri": "https://localhost:8080/"
        }
      },
      "execution_count": 65,
      "outputs": [
        {
          "output_type": "stream",
          "name": "stdout",
          "text": [
            "Requirement already satisfied: pyEDFlib in /usr/local/lib/python3.10/dist-packages (0.1.38)\n",
            "Requirement already satisfied: numpy>=1.9.1 in /usr/local/lib/python3.10/dist-packages (from pyEDFlib) (1.26.4)\n"
          ]
        }
      ]
    },
    {
      "cell_type": "code",
      "source": [
        "import pyedflib as plib"
      ],
      "metadata": {
        "id": "5Ei2aRgvNAEO"
      },
      "execution_count": 66,
      "outputs": []
    },
    {
      "cell_type": "code",
      "source": [
        "ecog = plib.EdfReader(\"/content/hack/MyDrive/hack/hack/ECoG_fully_marked_(4+2 files, 6 h each)/Ati4x1_15m_BL_6h.edf\")\n",
        "ecog"
      ],
      "metadata": {
        "colab": {
          "base_uri": "https://localhost:8080/"
        },
        "id": "xqA6gVD7hNN1",
        "outputId": "86ff8a39-87a3-4d05-c223-c1efddf6dde7"
      },
      "execution_count": 67,
      "outputs": [
        {
          "output_type": "execute_result",
          "data": {
            "text/plain": [
              "<pyedflib.edfreader.EdfReader at 0x57150a8df890>"
            ]
          },
          "metadata": {},
          "execution_count": 67
        }
      ]
    },
    {
      "source": [
        "from pyedflib import highlevel\n",
        "signals, signal_headers, header = highlevel.read_edf(\"/content/hack/MyDrive/hack/hack/ECoG_fully_marked_(4+2 files, 6 h each)/Ati4x1_15m_BL_6h_fully_marked.edf\")\n",
        "print(signals)\n",
        "print(signal_headers)\n",
        "print(header)"
      ],
      "cell_type": "code",
      "execution_count": 68,
      "outputs": [
        {
          "output_type": "stream",
          "name": "stdout",
          "text": [
            "[[0.050875  0.0418125 0.0518125 ... 0.        0.        0.       ]\n",
            " [0.0465625 0.03625   0.0399375 ... 0.        0.        0.       ]\n",
            " [0.121125  0.11025   0.122875  ... 0.        0.        0.       ]]\n",
            "[{'label': 'FrL', 'dimension': 'mV', 'sample_rate': 400.0, 'sample_frequency': 400.0, 'physical_max': 2.0, 'physical_min': -2.0, 'digital_max': 32000, 'digital_min': -32000, 'prefilter': '', 'transducer': ''}, {'label': 'FrR', 'dimension': 'mV', 'sample_rate': 400.0, 'sample_frequency': 400.0, 'physical_max': 2.0, 'physical_min': -2.0, 'digital_max': 32000, 'digital_min': -32000, 'prefilter': '', 'transducer': ''}, {'label': 'OcR', 'dimension': 'mV', 'sample_rate': 400.0, 'sample_frequency': 400.0, 'physical_max': 2.0, 'physical_min': -2.0, 'digital_max': 32000, 'digital_min': -32000, 'prefilter': '', 'transducer': ''}]\n",
            "{'technician': '', 'recording_additional': '', 'patientname': 'X', 'patient_additional': '', 'patientcode': '', 'equipment': '', 'admincode': '', 'sex': '', 'startdate': datetime.datetime(2023, 10, 3, 0, 0), 'birthdate': '', 'gender': '', 'annotations': [[178.0, -1.0, 'ds1'], [262.0, -1.0, 'ds2'], [343.0, -1.0, 'ds1'], [496.0, -1.0, 'ds2'], [660.0, -1.0, 'is2'], [1475.0, -1.0, 'ds1'], [1501.0, -1.0, 'ds2'], [1511.0, -1.0, 'ds1'], [1772.0, -1.0, 'ds2'], [1774.0, -1.0, 'is1'], [1791.0, -1.0, 'is2'], [2003.0, -1.0, 'ds1'], [2246.0, -1.0, 'ds2'], [2255.0, -1.0, 'ds1'], [2288.0, -1.0, 'ds2'], [2317.0, -1.0, 'ds1'], [2356.0, -1.0, 'ds2'], [2437.0, -1.0, 'ds1'], [2519.0, -1.0, 'ds2'], [2522.0, -1.0, 'is1'], [2532.0, -1.0, 'is2'], [2581.0, -1.0, 'ds1'], [2636.0, -1.0, 'ds2'], [2674.0, -1.0, 'ds1'], [2718.0, -1.0, 'ds2'], [2773.0, -1.0, 'ds1'], [2798.0, -1.0, 'ds2'], [2834.0, -1.0, 'ds1'], [2874.0, -1.0, 'ds2'], [2875.0, -1.0, 'is1'], [4021.0, -1.0, 'ds1'], [4075.0, -1.0, 'ds2'], [4098.0, -1.0, 'ds1'], [4196.0, -1.0, 'ds2'], [4209.0, -1.0, 'ds1'], [4380.0, -1.0, 'ds2'], [4531.0, -1.0, 'ds1'], [4728.0, -1.0, 'ds2'], [4849.0, -1.0, 'ds1'], [4896.0, -1.0, 'ds2'], [5617.0, -1.0, 'ds1'], [5746.0, -1.0, 'ds2'], [5779.0, -1.0, 'ds1'], [5909.0, -1.0, 'ds2'], [5929.0, -1.0, 'ds1'], [6089.0, -1.0, 'ds2'], [6089.0, -1.0, 'is1'], [6099.0, -1.0, 'is2'], [6582.0, -1.0, 'ds1'], [6714.0, -1.0, 'ds2'], [6749.0, -1.0, 'ds1'], [6869.0, -1.0, 'ds2'], [6885.0, -1.0, 'ds1'], [6970.0, -1.0, 'ds2'], [7015.0, -1.0, 'ds1'], [7087.0, -1.0, 'ds2'], [7232.0, -1.0, 'ds1'], [7403.0, -1.0, 'ds2'], [7410.0, -1.0, 'ds1'], [7570.0, -1.0, 'ds2'], [7602.0, -1.0, 'ds1'], [7692.0, -1.0, 'ds2'], [7754.0, -1.0, 'ds1'], [7811.0, -1.0, 'ds2'], [7812.0, -1.0, 'is1'], [7829.0, -1.0, 'is2'], [7931.0, -1.0, 'ds1'], [8210.0, -1.0, 'ds2'], [8271.0, -1.0, 'ds1'], [8444.0, -1.0, 'ds2'], [8648.0, -1.0, 'ds1'], [8825.0, -1.0, 'ds2'], [8843.0, -1.0, 'ds1'], [8890.0, -1.0, 'ds2'], [8907.0, -1.0, 'ds1'], [8936.0, -1.0, 'ds2'], [8961.0, -1.0, 'ds1'], [9072.0, -1.0, 'ds2'], [9085.0, -1.0, 'is1'], [9095.0, -1.0, 'is2'], [9106.0, -1.0, 'ds1'], [9131.0, -1.0, 'ds2'], [9135.0, -1.0, 'is1'], [9162.0, -1.0, 'is2'], [9307.0, -1.0, 'ds1'], [9369.0, -1.0, 'ds2'], [10911.0, -1.0, 'ds1'], [11248.0, -1.0, 'ds2'], [11268.0, -1.0, 'ds1'], [11393.0, -1.0, 'ds2'], [11409.0, -1.0, 'ds1'], [11650.0, -1.0, 'ds2'], [11706.0, -1.0, 'ds1'], [11762.0, -1.0, 'ds2'], [11901.0, -1.0, 'ds1'], [12022.0, -1.0, 'ds2'], [12023.0, -1.0, 'is1'], [12032.0, -1.0, 'is2'], [12075.0, -1.0, 'ds1'], [12199.0, -1.0, 'ds2'], [12581.0, -1.0, 'ds1'], [12980.0, -1.0, 'ds2'], [13026.0, -1.0, 'ds1'], [13479.0, -1.0, 'ds2'], [13645.0, -1.0, 'ds1'], [13760.0, -1.0, 'ds2'], [13780.0, -1.0, 'ds1'], [13953.0, -1.0, 'ds2'], [13960.0, -1.0, 'is1'], [13969.0, -1.0, 'is2'], [14042.0, -1.0, 'ds1'], [14090.0, -1.0, 'ds2'], [14183.0, -1.0, 'ds1'], [14345.0, -1.0, 'ds2'], [14480.0, -1.0, 'is1'], [14488.0, -1.0, 'is2'], [15724.0, -1.0, 'ds1'], [16497.0, -1.0, 'ds2'], [16544.0, -1.0, 'ds1'], [16672.0, -1.0, 'ds2'], [17354.0, -1.0, 'ds1'], [17804.0, -1.0, 'ds2'], [17849.0, -1.0, 'ds1'], [17940.0, -1.0, 'ds2'], [18059.0, -1.0, 'ds1'], [18131.0, -1.0, 'ds2'], [18288.0, -1.0, 'ds1'], [18602.0, -1.0, 'ds2'], [18603.0, -1.0, 'is1'], [18611.0, -1.0, 'is2'], [18631.0, -1.0, 'ds1'], [18688.0, -1.0, 'ds2'], [18690.0, -1.0, 'is1'], [18698.0, -1.0, 'is2'], [18913.0, -1.0, 'ds1'], [19317.0, -1.0, 'ds2'], [19509.0, -1.0, 'ds1'], [20039.0, -1.0, 'ds2']]}\n"
          ]
        }
      ],
      "metadata": {
        "cellView": "form",
        "id": "1ZSfThXjhj3d",
        "outputId": "d55a4fba-d7ff-4de9-c6e9-9a096bcbc0c1",
        "colab": {
          "base_uri": "https://localhost:8080/"
        }
      }
    },
    {
      "cell_type": "code",
      "source": [
        "signal_headers"
      ],
      "metadata": {
        "id": "YWT-1YG1hfLh",
        "outputId": "1b450a73-d03b-4076-ee71-f5b3da1359d7",
        "colab": {
          "base_uri": "https://localhost:8080/"
        }
      },
      "execution_count": 69,
      "outputs": [
        {
          "output_type": "execute_result",
          "data": {
            "text/plain": [
              "[{'label': 'FrL',\n",
              "  'dimension': 'mV',\n",
              "  'sample_rate': 400.0,\n",
              "  'sample_frequency': 400.0,\n",
              "  'physical_max': 2.0,\n",
              "  'physical_min': -2.0,\n",
              "  'digital_max': 32000,\n",
              "  'digital_min': -32000,\n",
              "  'prefilter': '',\n",
              "  'transducer': ''},\n",
              " {'label': 'FrR',\n",
              "  'dimension': 'mV',\n",
              "  'sample_rate': 400.0,\n",
              "  'sample_frequency': 400.0,\n",
              "  'physical_max': 2.0,\n",
              "  'physical_min': -2.0,\n",
              "  'digital_max': 32000,\n",
              "  'digital_min': -32000,\n",
              "  'prefilter': '',\n",
              "  'transducer': ''},\n",
              " {'label': 'OcR',\n",
              "  'dimension': 'mV',\n",
              "  'sample_rate': 400.0,\n",
              "  'sample_frequency': 400.0,\n",
              "  'physical_max': 2.0,\n",
              "  'physical_min': -2.0,\n",
              "  'digital_max': 32000,\n",
              "  'digital_min': -32000,\n",
              "  'prefilter': '',\n",
              "  'transducer': ''}]"
            ]
          },
          "metadata": {},
          "execution_count": 69
        }
      ]
    },
    {
      "cell_type": "code",
      "source": [
        "import numpy as np\n",
        "import matplotlib.pyplot as plt"
      ],
      "metadata": {
        "id": "qDe6ZZUGRKbg"
      },
      "execution_count": 70,
      "outputs": []
    },
    {
      "cell_type": "code",
      "source": [
        "for i, (array, label_dict) in enumerate(zip(signals, signal_headers)):\n",
        "    plt.plot(array, label=label_dict['label'])\n",
        "\n",
        "plt.xlabel('Index')\n",
        "plt.ylabel('Value')\n",
        "plt.title('Data Visualization of Arrays with Labels')\n",
        "plt.legend()\n",
        "plt.show()"
      ],
      "metadata": {
        "id": "gNopiN9wwGu_",
        "outputId": "fa3d292c-05ee-4326-ed00-2eb7418d34ca",
        "colab": {
          "base_uri": "https://localhost:8080/",
          "height": 472
        }
      },
      "execution_count": 71,
      "outputs": [
        {
          "output_type": "display_data",
          "data": {
            "text/plain": [
              "<Figure size 640x480 with 1 Axes>"
            ],
            "image/png": "[encoded data removed]"
          },
          "metadata": {}
        }
      ]
    },
    {
      "cell_type": "code",
      "source": [
        "df = pd.read_csv(\"/content/hack/MyDrive/hack/hack/ECoG_fully_marked_(4+2 files, 6 h each)/Ati4x1_15m_BL_6h.txt\", sep=\"\\t\", index_col=\"NN\")\n",
        "df"
      ],
      "metadata": {
        "id": "WSOLiY1vwXj1",
        "outputId": "6290ab33-0767-4558-b64f-6748ad0ba7e7",
        "colab": {
          "base_uri": "https://localhost:8080/",
          "height": 455
        }
      },
      "execution_count": 72,
      "outputs": [
        {
          "output_type": "execute_result",
          "data": {
            "text/plain": [
              "       время маркер\n",
              "NN                 \n",
              "1    0:02:58    ds1\n",
              "2    0:04:22    ds2\n",
              "3    0:05:43    ds1\n",
              "4    0:08:16    ds2\n",
              "5    0:24:35    ds1\n",
              "..       ...    ...\n",
              "134  5:11:38    is2\n",
              "135  5:15:13    ds1\n",
              "136  5:21:57    ds2\n",
              "137  5:25:09    ds1\n",
              "138  5:33:59    ds2\n",
              "\n",
              "[138 rows x 2 columns]"
            ],
            "text/html": [
              "\n",
              "  <div id=\"df-6f297059-625b-4c08-bc63-4360536de546\" class=\"colab-df-container\">\n",
              "    <div>\n",
              "<style scoped>\n",
              "    .dataframe tbody tr th:only-of-type {\n",
              "        vertical-align: middle;\n",
              "    }\n",
              "\n",
              "    .dataframe tbody tr th {\n",
              "        vertical-align: top;\n",
              "    }\n",
              "\n",
              "    .dataframe thead th {\n",
              "        text-align: right;\n",
              "    }\n",
              "</style>\n",
              "<table border=\"1\" class=\"dataframe\">\n",
              "  <thead>\n",
              "    <tr style=\"text-align: right;\">\n",
              "      <th></th>\n",
              "      <th>время</th>\n",
              "      <th>маркер</th>\n",
              "    </tr>\n",
              "    <tr>\n",
              "      <th>NN</th>\n",
              "      <th></th>\n",
              "      <th></th>\n",
              "    </tr>\n",
              "  </thead>\n",
              "  <tbody>\n",
              "    <tr>\n",
              "      <th>1</th>\n",
              "      <td>0:02:58</td>\n",
              "      <td>ds1</td>\n",
              "    </tr>\n",
              "    <tr>\n",
              "      <th>2</th>\n",
              "      <td>0:04:22</td>\n",
              "      <td>ds2</td>\n",
              "    </tr>\n",
              "    <tr>\n",
              "      <th>3</th>\n",
              "      <td>0:05:43</td>\n",
              "      <td>ds1</td>\n",
              "    </tr>\n",
              "    <tr>\n",
              "      <th>4</th>\n",
              "      <td>0:08:16</td>\n",
              "      <td>ds2</td>\n",
              "    </tr>\n",
              "    <tr>\n",
              "      <th>5</th>\n",
              "      <td>0:24:35</td>\n",
              "      <td>ds1</td>\n",
              "    </tr>\n",
              "    <tr>\n",
              "      <th>...</th>\n",
              "      <td>...</td>\n",
              "      <td>...</td>\n",
              "    </tr>\n",
              "    <tr>\n",
              "      <th>134</th>\n",
              "      <td>5:11:38</td>\n",
              "      <td>is2</td>\n",
              "    </tr>\n",
              "    <tr>\n",
              "      <th>135</th>\n",
              "      <td>5:15:13</td>\n",
              "      <td>ds1</td>\n",
              "    </tr>\n",
              "    <tr>\n",
              "      <th>136</th>\n",
              "      <td>5:21:57</td>\n",
              "      <td>ds2</td>\n",
              "    </tr>\n",
              "    <tr>\n",
              "      <th>137</th>\n",
              "      <td>5:25:09</td>\n",
              "      <td>ds1</td>\n",
              "    </tr>\n",
              "    <tr>\n",
              "      <th>138</th>\n",
              "      <td>5:33:59</td>\n",
              "      <td>ds2</td>\n",
              "    </tr>\n",
              "  </tbody>\n",
              "</table>\n",
              "<p>138 rows × 2 columns</p>\n",
              "</div>\n",
              "    <div class=\"colab-df-buttons\">\n",
              "\n",
              "  <div class=\"colab-df-container\">\n",
              "    <button class=\"colab-df-convert\" onclick=\"convertToInteractive('df-6f297059-625b-4c08-bc63-4360536de546')\"\n",
              "            title=\"Convert this dataframe to an interactive table.\"\n",
              "            style=\"display:none;\">\n",
              "\n",
              "  <svg xmlns=\"http://www.w3.org/2000/svg\" height=\"24px\" viewBox=\"0 -960 960 960\">\n",
              "    <path d=\"M120-120v-720h720v720H120Zm60-500h600v-160H180v160Zm220 220h160v-160H400v160Zm0 220h160v-160H400v160ZM180-400h160v-160H180v160Zm440 0h160v-160H620v160ZM180-180h160v-160H180v160Zm440 0h160v-160H620v160Z\"/>\n",
              "  </svg>\n",
              "    </button>\n",
              "\n",
              "  <style>\n",
              "    .colab-df-container {\n",
              "      display:flex;\n",
              "      gap: 12px;\n",
              "    }\n",
              "\n",
              "    .colab-df-convert {\n",
              "      background-color: #E8F0FE;\n",
              "      border: none;\n",
              "      border-radius: 50%;\n",
              "      cursor: pointer;\n",
              "      display: none;\n",
              "      fill: #1967D2;\n",
              "      height: 32px;\n",
              "      padding: 0 0 0 0;\n",
              "      width: 32px;\n",
              "    }\n",
              "\n",
              "    .colab-df-convert:hover {\n",
              "      background-color: #E2EBFA;\n",
              "      box-shadow: 0px 1px 2px rgba(60, 64, 67, 0.3), 0px 1px 3px 1px rgba(60, 64, 67, 0.15);\n",
              "      fill: #174EA6;\n",
              "    }\n",
              "\n",
              "    .colab-df-buttons div {\n",
              "      margin-bottom: 4px;\n",
              "    }\n",
              "\n",
              "    [theme=dark] .colab-df-convert {\n",
              "      background-color: #3B4455;\n",
              "      fill: #D2E3FC;\n",
              "    }\n",
              "\n",
              "    [theme=dark] .colab-df-convert:hover {\n",
              "      background-color: #434B5C;\n",
              "      box-shadow: 0px 1px 3px 1px rgba(0, 0, 0, 0.15);\n",
              "      filter: drop-shadow(0px 1px 2px rgba(0, 0, 0, 0.3));\n",
              "      fill: #FFFFFF;\n",
              "    }\n",
              "  </style>\n",
              "\n",
              "    <script>\n",
              "      const buttonEl =\n",
              "        document.querySelector('#df-6f297059-625b-4c08-bc63-4360536de546 button.colab-df-convert');\n",
              "      buttonEl.style.display =\n",
              "        google.colab.kernel.accessAllowed ? 'block' : 'none';\n",
              "\n",
              "      async function convertToInteractive(key) {\n",
              "        const element = document.querySelector('#df-6f297059-625b-4c08-bc63-4360536de546');\n",
              "        const dataTable =\n",
              "          await google.colab.kernel.invokeFunction('convertToInteractive',\n",
              "                                                    [key], {});\n",
              "        if (!dataTable) return;\n",
              "\n",
              "        const docLinkHtml = 'Like what you see? Visit the ' +\n",
              "          '<a target=\"_blank\" href=https://colab.research.google.com/notebooks/data_table.ipynb>data table notebook</a>'\n",
              "          + ' to learn more about interactive tables.';\n",
              "        element.innerHTML = '';\n",
              "        dataTable['output_type'] = 'display_data';\n",
              "        await google.colab.output.renderOutput(dataTable, element);\n",
              "        const docLink = document.createElement('div');\n",
              "        docLink.innerHTML = docLinkHtml;\n",
              "        element.appendChild(docLink);\n",
              "      }\n",
              "    </script>\n",
              "  </div>\n",
              "\n",
              "\n",
              "<div id=\"df-1a177f60-ce26-421f-81e8-c21bf4ad5f60\">\n",
              "  <button class=\"colab-df-quickchart\" onclick=\"quickchart('df-1a177f60-ce26-421f-81e8-c21bf4ad5f60')\"\n",
              "            title=\"Suggest charts\"\n",
              "            style=\"display:none;\">\n",
              "\n",
              "<svg xmlns=\"http://www.w3.org/2000/svg\" height=\"24px\"viewBox=\"0 0 24 24\"\n",
              "     width=\"24px\">\n",
              "    <g>\n",
              "        <path d=\"M19 3H5c-1.1 0-2 .9-2 2v14c0 1.1.9 2 2 2h14c1.1 0 2-.9 2-2V5c0-1.1-.9-2-2-2zM9 17H7v-7h2v7zm4 0h-2V7h2v10zm4 0h-2v-4h2v4z\"/>\n",
              "    </g>\n",
              "</svg>\n",
              "  </button>\n",
              "\n",
              "<style>\n",
              "  .colab-df-quickchart {\n",
              "      --bg-color: #E8F0FE;\n",
              "      --fill-color: #1967D2;\n",
              "      --hover-bg-color: #E2EBFA;\n",
              "      --hover-fill-color: #174EA6;\n",
              "      --disabled-fill-color: #AAA;\n",
              "      --disabled-bg-color: #DDD;\n",
              "  }\n",
              "\n",
              "  [theme=dark] .colab-df-quickchart {\n",
              "      --bg-color: #3B4455;\n",
              "      --fill-color: #D2E3FC;\n",
              "      --hover-bg-color: #434B5C;\n",
              "      --hover-fill-color: #FFFFFF;\n",
              "      --disabled-bg-color: #3B4455;\n",
              "      --disabled-fill-color: #666;\n",
              "  }\n",
              "\n",
              "  .colab-df-quickchart {\n",
              "    background-color: var(--bg-color);\n",
              "    border: none;\n",
              "    border-radius: 50%;\n",
              "    cursor: pointer;\n",
              "    display: none;\n",
              "    fill: var(--fill-color);\n",
              "    height: 32px;\n",
              "    padding: 0;\n",
              "    width: 32px;\n",
              "  }\n",
              "\n",
              "  .colab-df-quickchart:hover {\n",
              "    background-color: var(--hover-bg-color);\n",
              "    box-shadow: 0 1px 2px rgba(60, 64, 67, 0.3), 0 1px 3px 1px rgba(60, 64, 67, 0.15);\n",
              "    fill: var(--button-hover-fill-color);\n",
              "  }\n",
              "\n",
              "  .colab-df-quickchart-complete:disabled,\n",
              "  .colab-df-quickchart-complete:disabled:hover {\n",
              "    background-color: var(--disabled-bg-color);\n",
              "    fill: var(--disabled-fill-color);\n",
              "    box-shadow: none;\n",
              "  }\n",
              "\n",
              "  .colab-df-spinner {\n",
              "    border: 2px solid var(--fill-color);\n",
              "    border-color: transparent;\n",
              "    border-bottom-color: var(--fill-color);\n",
              "    animation:\n",
              "      spin 1s steps(1) infinite;\n",
              "  }\n",
              "\n",
              "  @keyframes spin {\n",
              "    0% {\n",
              "      border-color: transparent;\n",
              "      border-bottom-color: var(--fill-color);\n",
              "      border-left-color: var(--fill-color);\n",
              "    }\n",
              "    20% {\n",
              "      border-color: transparent;\n",
              "      border-left-color: var(--fill-color);\n",
              "      border-top-color: var(--fill-color);\n",
              "    }\n",
              "    30% {\n",
              "      border-color: transparent;\n",
              "      border-left-color: var(--fill-color);\n",
              "      border-top-color: var(--fill-color);\n",
              "      border-right-color: var(--fill-color);\n",
              "    }\n",
              "    40% {\n",
              "      border-color: transparent;\n",
              "      border-right-color: var(--fill-color);\n",
              "      border-top-color: var(--fill-color);\n",
              "    }\n",
              "    60% {\n",
              "      border-color: transparent;\n",
              "      border-right-color: var(--fill-color);\n",
              "    }\n",
              "    80% {\n",
              "      border-color: transparent;\n",
              "      border-right-color: var(--fill-color);\n",
              "      border-bottom-color: var(--fill-color);\n",
              "    }\n",
              "    90% {\n",
              "      border-color: transparent;\n",
              "      border-bottom-color: var(--fill-color);\n",
              "    }\n",
              "  }\n",
              "</style>\n",
              "\n",
              "  <script>\n",
              "    async function quickchart(key) {\n",
              "      const quickchartButtonEl =\n",
              "        document.querySelector('#' + key + ' button');\n",
              "      quickchartButtonEl.disabled = true;  // To prevent multiple clicks.\n",
              "      quickchartButtonEl.classList.add('colab-df-spinner');\n",
              "      try {\n",
              "        const charts = await google.colab.kernel.invokeFunction(\n",
              "            'suggestCharts', [key], {});\n",
              "      } catch (error) {\n",
              "        console.error('Error during call to suggestCharts:', error);\n",
              "      }\n",
              "      quickchartButtonEl.classList.remove('colab-df-spinner');\n",
              "      quickchartButtonEl.classList.add('colab-df-quickchart-complete');\n",
              "    }\n",
              "    (() => {\n",
              "      let quickchartButtonEl =\n",
              "        document.querySelector('#df-1a177f60-ce26-421f-81e8-c21bf4ad5f60 button');\n",
              "      quickchartButtonEl.style.display =\n",
              "        google.colab.kernel.accessAllowed ? 'block' : 'none';\n",
              "    })();\n",
              "  </script>\n",
              "</div>\n",
              "    </div>\n",
              "  </div>\n"
            ],
            "application/vnd.google.colaboratory.intrinsic+json": {
              "type": "dataframe",
              "variable_name": "df",
              "summary": "{\n  \"name\": \"df\",\n  \"rows\": 138,\n  \"fields\": [\n    {\n      \"column\": \"NN\",\n      \"properties\": {\n        \"dtype\": \"number\",\n        \"std\": 39,\n        \"min\": 1,\n        \"max\": 138,\n        \"num_unique_values\": 138,\n        \"samples\": [\n          90,\n          106,\n          13\n        ],\n        \"semantic_type\": \"\",\n        \"description\": \"\"\n      }\n    },\n    {\n      \"column\": \"\\u0432\\u0440\\u0435\\u043c\\u044f\",\n      \"properties\": {\n        \"dtype\": \"object\",\n        \"num_unique_values\": 137,\n        \"samples\": [\n          \"3:49:40\",\n          \"3:49:20\",\n          \"0:37:35\"\n        ],\n        \"semantic_type\": \"\",\n        \"description\": \"\"\n      }\n    },\n    {\n      \"column\": \"\\u043c\\u0430\\u0440\\u043a\\u0435\\u0440\",\n      \"properties\": {\n        \"dtype\": \"category\",\n        \"num_unique_values\": 4,\n        \"samples\": [\n          \"ds2\",\n          \"is2\",\n          \"ds1\"\n        ],\n        \"semantic_type\": \"\",\n        \"description\": \"\"\n      }\n    }\n  ]\n}"
            }
          },
          "metadata": {},
          "execution_count": 72
        }
      ]
    },
    {
      "cell_type": "code",
      "source": [
        "x1 = int(header['annotations'][0][0] * 400)\n",
        "x2 = int(header['annotations'][1][0] * 400)\n",
        "print(x1, x2)"
      ],
      "metadata": {
        "id": "WtC5tX_aw0sJ",
        "outputId": "acaf66c7-a9de-48c2-c9ff-d91d85987184",
        "colab": {
          "base_uri": "https://localhost:8080/"
        }
      },
      "execution_count": 73,
      "outputs": [
        {
          "output_type": "stream",
          "name": "stdout",
          "text": [
            "71200 104800\n"
          ]
        }
      ]
    },
    {
      "cell_type": "code",
      "source": [
        "signals[2][71200:104800]"
      ],
      "metadata": {
        "id": "0p7Owa6M011T",
        "outputId": "289893c9-752c-41c9-be6a-c16338c546c8",
        "colab": {
          "base_uri": "https://localhost:8080/"
        }
      },
      "execution_count": 74,
      "outputs": [
        {
          "output_type": "execute_result",
          "data": {
            "text/plain": [
              "array([-0.0896875, -0.0385625, -0.0394375, ...,  0.0036875, -0.019875 ,\n",
              "       -0.0011875])"
            ]
          },
          "metadata": {},
          "execution_count": 74
        }
      ]
    },
    {
      "cell_type": "code",
      "source": [
        "plt.plot(signals[2][71200:104800], label=label_dict['label'])\n",
        "\n",
        "plt.xlabel('Index')\n",
        "plt.ylabel('Value')\n",
        "plt.title('Data Visualization of Arrays with Labels')\n",
        "plt.legend()\n",
        "plt.show()"
      ],
      "metadata": {
        "id": "X8ozsXcq1Hp_",
        "outputId": "0982b99f-b22b-40a4-88e5-00401c8412a5",
        "colab": {
          "base_uri": "https://localhost:8080/",
          "height": 472
        }
      },
      "execution_count": 75,
      "outputs": [
        {
          "output_type": "display_data",
          "data": {
            "text/plain": [
              "<Figure size 640x480 with 1 Axes>"
            ],
            "image/png": "[encoded data removed]"
          },
          "metadata": {}
        }
      ]
    },
    {
      "cell_type": "code",
      "source": [
        "x1 = int(header['annotations'][0][0] * 400)\n",
        "x2 = int(header['annotations'][1][0] * 400)\n",
        "print(x1, x2)"
      ],
      "metadata": {
        "id": "kuVkk6Jl2uze",
        "outputId": "dfd7c5de-16b3-40f7-da70-e2b1575ca475",
        "colab": {
          "base_uri": "https://localhost:8080/"
        }
      },
      "execution_count": 77,
      "outputs": [
        {
          "output_type": "stream",
          "name": "stdout",
          "text": [
            "71200 104800\n"
          ]
        }
      ]
    },
    {
      "cell_type": "code",
      "source": [
        "count = 0\n",
        "for i in range(138):\n",
        "  x1 = int(header['annotations'][i][0] * 400)\n",
        "  count += 1\n",
        "  x2 = int(header['annotations'][i+1][0] * 400)\n",
        "  print(x1, x2, count)"
      ],
      "metadata": {
        "id": "pHZaPQ821142",
        "outputId": "bcb69293-89ab-4628-f7d1-8d92b02c7efb",
        "colab": {
          "base_uri": "https://localhost:8080/",
          "height": 1000
        }
      },
      "execution_count": 80,
      "outputs": [
        {
          "output_type": "stream",
          "name": "stdout",
          "text": [
            "71200 104800 1\n",
            "104800 137200 2\n",
            "137200 198400 3\n",
            "198400 264000 4\n",
            "264000 590000 5\n",
            "590000 600400 6\n",
            "600400 604400 7\n",
            "604400 708800 8\n",
            "708800 709600 9\n",
            "709600 716400 10\n",
            "716400 801200 11\n",
            "801200 898400 12\n",
            "898400 902000 13\n",
            "902000 915200 14\n",
            "915200 926800 15\n",
            "926800 942400 16\n",
            "942400 974800 17\n",
            "974800 1007600 18\n",
            "1007600 1008800 19\n",
            "1008800 1012800 20\n",
            "1012800 1032400 21\n",
            "1032400 1054400 22\n",
            "1054400 1069600 23\n",
            "1069600 1087200 24\n",
            "1087200 1109200 25\n",
            "1109200 1119200 26\n",
            "1119200 1133600 27\n",
            "1133600 1149600 28\n",
            "1149600 1150000 29\n",
            "1150000 1608400 30\n",
            "1608400 1630000 31\n",
            "1630000 1639200 32\n",
            "1639200 1678400 33\n",
            "1678400 1683600 34\n",
            "1683600 1752000 35\n",
            "1752000 1812400 36\n",
            "1812400 1891200 37\n",
            "1891200 1939600 38\n",
            "1939600 1958400 39\n",
            "1958400 2246800 40\n",
            "2246800 2298400 41\n",
            "2298400 2311600 42\n",
            "2311600 2363600 43\n",
            "2363600 2371600 44\n",
            "2371600 2435600 45\n",
            "2435600 2435600 46\n",
            "2435600 2439600 47\n",
            "2439600 2632800 48\n",
            "2632800 2685600 49\n",
            "2685600 2699600 50\n",
            "2699600 2747600 51\n",
            "2747600 2754000 52\n",
            "2754000 2788000 53\n",
            "2788000 2806000 54\n",
            "2806000 2834800 55\n",
            "2834800 2892800 56\n",
            "2892800 2961200 57\n",
            "2961200 2964000 58\n",
            "2964000 3028000 59\n",
            "3028000 3040800 60\n",
            "3040800 3076800 61\n",
            "3076800 3101600 62\n",
            "3101600 3124400 63\n",
            "3124400 3124800 64\n",
            "3124800 3131600 65\n",
            "3131600 3172400 66\n",
            "3172400 3284000 67\n",
            "3284000 3308400 68\n",
            "3308400 3377600 69\n",
            "3377600 3459200 70\n",
            "3459200 3530000 71\n",
            "3530000 3537200 72\n",
            "3537200 3556000 73\n",
            "3556000 3562800 74\n",
            "3562800 3574400 75\n",
            "3574400 3584400 76\n",
            "3584400 3628800 77\n",
            "3628800 3634000 78\n",
            "3634000 3638000 79\n",
            "3638000 3642400 80\n",
            "3642400 3652400 81\n",
            "3652400 3654000 82\n",
            "3654000 3664800 83\n",
            "3664800 3722800 84\n",
            "3722800 3747600 85\n",
            "3747600 4364400 86\n",
            "4364400 4499200 87\n",
            "4499200 4507200 88\n",
            "4507200 4557200 89\n",
            "4557200 4563600 90\n",
            "4563600 4660000 91\n",
            "4660000 4682400 92\n",
            "4682400 4704800 93\n",
            "4704800 4760400 94\n",
            "4760400 4808800 95\n",
            "4808800 4809200 96\n",
            "4809200 4812800 97\n",
            "4812800 4830000 98\n",
            "4830000 4879600 99\n",
            "4879600 5032400 100\n",
            "5032400 5192000 101\n",
            "5192000 5210400 102\n",
            "5210400 5391600 103\n",
            "5391600 5458000 104\n",
            "5458000 5504000 105\n",
            "5504000 5512000 106\n",
            "5512000 5581200 107\n",
            "5581200 5584000 108\n",
            "5584000 5587600 109\n",
            "5587600 5616800 110\n",
            "5616800 5636000 111\n",
            "5636000 5673200 112\n",
            "5673200 5738000 113\n",
            "5738000 5792000 114\n",
            "5792000 5795200 115\n",
            "5795200 6289600 116\n",
            "6289600 6598800 117\n",
            "6598800 6617600 118\n",
            "6617600 6668800 119\n",
            "6668800 6941600 120\n",
            "6941600 7121600 121\n",
            "7121600 7139600 122\n",
            "7139600 7176000 123\n",
            "7176000 7223600 124\n",
            "7223600 7252400 125\n",
            "7252400 7315200 126\n",
            "7315200 7440800 127\n",
            "7440800 7441200 128\n",
            "7441200 7444400 129\n",
            "7444400 7452400 130\n",
            "7452400 7475200 131\n",
            "7475200 7476000 132\n",
            "7476000 7479200 133\n",
            "7479200 7565200 134\n",
            "7565200 7726800 135\n",
            "7726800 7803600 136\n",
            "7803600 8015600 137\n"
          ]
        },
        {
          "output_type": "error",
          "ename": "IndexError",
          "evalue": "list index out of range",
          "traceback": [
            "\u001b[0;31m---------------------------------------------------------------------------\u001b[0m",
            "\u001b[0;31mIndexError\u001b[0m                                Traceback (most recent call last)",
            "\u001b[0;32m<ipython-input-80-7c65705a13ab>\u001b[0m in \u001b[0;36m<cell line: 2>\u001b[0;34m()\u001b[0m\n\u001b[1;32m      3\u001b[0m   \u001b[0mx1\u001b[0m \u001b[0;34m=\u001b[0m \u001b[0mint\u001b[0m\u001b[0;34m(\u001b[0m\u001b[0mheader\u001b[0m\u001b[0;34m[\u001b[0m\u001b[0;34m'annotations'\u001b[0m\u001b[0;34m]\u001b[0m\u001b[0;34m[\u001b[0m\u001b[0mi\u001b[0m\u001b[0;34m]\u001b[0m\u001b[0;34m[\u001b[0m\u001b[0;36m0\u001b[0m\u001b[0;34m]\u001b[0m \u001b[0;34m*\u001b[0m \u001b[0;36m400\u001b[0m\u001b[0;34m)\u001b[0m\u001b[0;34m\u001b[0m\u001b[0;34m\u001b[0m\u001b[0m\n\u001b[1;32m      4\u001b[0m   \u001b[0mcount\u001b[0m \u001b[0;34m+=\u001b[0m \u001b[0;36m1\u001b[0m\u001b[0;34m\u001b[0m\u001b[0;34m\u001b[0m\u001b[0m\n\u001b[0;32m----> 5\u001b[0;31m   \u001b[0mx2\u001b[0m \u001b[0;34m=\u001b[0m \u001b[0mint\u001b[0m\u001b[0;34m(\u001b[0m\u001b[0mheader\u001b[0m\u001b[0;34m[\u001b[0m\u001b[0;34m'annotations'\u001b[0m\u001b[0;34m]\u001b[0m\u001b[0;34m[\u001b[0m\u001b[0mi\u001b[0m\u001b[0;34m+\u001b[0m\u001b[0;36m1\u001b[0m\u001b[0;34m]\u001b[0m\u001b[0;34m[\u001b[0m\u001b[0;36m0\u001b[0m\u001b[0;34m]\u001b[0m \u001b[0;34m*\u001b[0m \u001b[0;36m400\u001b[0m\u001b[0;34m)\u001b[0m\u001b[0;34m\u001b[0m\u001b[0;34m\u001b[0m\u001b[0m\n\u001b[0m\u001b[1;32m      6\u001b[0m   \u001b[0mprint\u001b[0m\u001b[0;34m(\u001b[0m\u001b[0mx1\u001b[0m\u001b[0;34m,\u001b[0m \u001b[0mx2\u001b[0m\u001b[0;34m,\u001b[0m \u001b[0mcount\u001b[0m\u001b[0;34m)\u001b[0m\u001b[0;34m\u001b[0m\u001b[0;34m\u001b[0m\u001b[0m\n",
            "\u001b[0;31mIndexError\u001b[0m: list index out of range"
          ]
        }
      ]
    },
    {
      "cell_type": "code",
      "source": [
        "# разложение Фурье\n",
        "\n",
        "def fourier_index(x):\n",
        "    N = 240\n",
        "    yf = 2.0/N * np.abs(fft(x)[0 : N//2])\n",
        "    indices = argrelmax(2.0 / N * np.abs(yf[0 : N//2]), order=4)\n",
        "\n",
        "    return yf[indices]"
      ],
      "metadata": {
        "id": "GcXXZ-Db3MWO"
      },
      "execution_count": 78,
      "outputs": []
    },
    {
      "cell_type": "code",
      "source": [
        "df2 ="
      ],
      "metadata": {
        "id": "pe8kEqgNK4Sd"
      },
      "execution_count": null,
      "outputs": []
    },
    {
      "cell_type": "code",
      "source": [
        "df2['fourier_1'] = df2['data'].apply(fourier_index)\n",
        "df2['fourier_2'] = df2['data_2'].apply(fourier_index)"
      ],
      "metadata": {
        "id": "xFrJSKAbEnm3"
      },
      "execution_count": null,
      "outputs": []
    },
    {
      "cell_type": "code",
      "source": [
        "df2['fourier_1'] = df2['fourier_1'].apply(lambda x: np.pad(x, (0, 17-len(x)), 'constant'))\n",
        "df2['fourier_2'] = df2['fourier_2'].apply(lambda x: np.pad(x, (0, 22-len(x)), 'constant'))"
      ],
      "metadata": {
        "id": "e53T2PyCErt0"
      },
      "execution_count": null,
      "outputs": []
    },
    {
      "cell_type": "code",
      "source": [
        "names1 = [f'f{i}' for i in range(17)]\n",
        "names2 = [f'ff{i}' for i in range(22)]"
      ],
      "metadata": {
        "id": "ZkIzJTDuEtqJ"
      },
      "execution_count": null,
      "outputs": []
    },
    {
      "cell_type": "code",
      "source": [
        "df2[names1] = pd.DataFrame(df2['fourier_1'].tolist(), index=df2.index)\n",
        "df2[names2] = pd.DataFrame(df2['fourier_2'].tolist(), index=df2.index)"
      ],
      "metadata": {
        "id": "3UHMnQaVEvjo"
      },
      "execution_count": null,
      "outputs": []
    }
  ]
}